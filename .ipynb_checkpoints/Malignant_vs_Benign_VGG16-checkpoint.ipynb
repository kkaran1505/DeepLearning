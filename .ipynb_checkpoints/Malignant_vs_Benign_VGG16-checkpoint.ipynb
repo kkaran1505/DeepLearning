{
  "nbformat": 4,
  "nbformat_minor": 0,
  "metadata": {
    "colab": {
      "provenance": [],
      "gpuType": "T4"
    },
    "kernelspec": {
      "name": "python3",
      "display_name": "Python 3"
    },
    "language_info": {
      "name": "python"
    },
    "accelerator": "GPU"
  },
  "cells": [
    {
      "cell_type": "code",
      "execution_count": 1,
      "metadata": {
        "colab": {
          "base_uri": "https://localhost:8080/"
        },
        "id": "iQxL_GrXnxob",
        "outputId": "11ba65d5-a9dd-44af-e2da-ca7916dda0c7"
      },
      "outputs": [
        {
          "output_type": "stream",
          "name": "stdout",
          "text": [
            "cp: cannot stat 'kaggle.json': No such file or directory\n"
          ]
        }
      ],
      "source": [
        "!mkdir -p ~/.kaggle\n",
        "!cp kaggle.json ~/.kaggle/"
      ]
    },
    {
      "cell_type": "code",
      "source": [
        "!kaggle datasets download -d fanconic/skin-cancer-malignant-vs-benign"
      ],
      "metadata": {
        "colab": {
          "base_uri": "https://localhost:8080/"
        },
        "id": "PgLEgGUsoBtb",
        "outputId": "3043d90b-acbd-461b-dda7-d37f9fc3809a"
      },
      "execution_count": 2,
      "outputs": [
        {
          "output_type": "stream",
          "name": "stdout",
          "text": [
            "Dataset URL: https://www.kaggle.com/datasets/fanconic/skin-cancer-malignant-vs-benign\n",
            "License(s): unknown\n",
            "Downloading skin-cancer-malignant-vs-benign.zip to /content\n",
            " 96% 313M/325M [00:03<00:00, 113MB/s] \n",
            "100% 325M/325M [00:03<00:00, 101MB/s]\n"
          ]
        }
      ]
    },
    {
      "cell_type": "code",
      "source": [
        "import zipfile\n",
        "zip_ref=zipfile.ZipFile('/content/skin-cancer-malignant-vs-benign.zip','r')\n",
        "zip_ref.extractall('/content')\n",
        "zip_ref.close()"
      ],
      "metadata": {
        "id": "L0ulB7IroB2C"
      },
      "execution_count": 3,
      "outputs": []
    },
    {
      "cell_type": "code",
      "source": [
        "import tensorflow as tf\n",
        "from tensorflow import keras\n",
        "from keras import Sequential\n",
        "from keras.layers import Dense,Conv2D,MaxPooling2D,Flatten,BatchNormalization,Dropout"
      ],
      "metadata": {
        "id": "sz-DE4jioI7K"
      },
      "execution_count": 4,
      "outputs": []
    },
    {
      "cell_type": "code",
      "source": [
        "train_ds= keras.utils.image_dataset_from_directory(directory='/content/train', labels = \"inferred\",\n",
        "                                                   label_mode = \"int\",\n",
        "                                                   batch_size = 32,\n",
        "                                                   image_size = (224,224))\n",
        "\n",
        "validation_ds= keras.utils.image_dataset_from_directory(directory='/content/test', labels = \"inferred\",\n",
        "                                                   label_mode = \"int\",\n",
        "                                                   batch_size = 32,\n",
        "                                                   image_size = (224,224))"
      ],
      "metadata": {
        "colab": {
          "base_uri": "https://localhost:8080/"
        },
        "id": "-8wuGCSNoI-m",
        "outputId": "0857bd0a-78d9-4689-8ed1-48772a08096b"
      },
      "execution_count": 5,
      "outputs": [
        {
          "output_type": "stream",
          "name": "stdout",
          "text": [
            "Found 2637 files belonging to 2 classes.\n",
            "Found 660 files belonging to 2 classes.\n"
          ]
        }
      ]
    },
    {
      "cell_type": "code",
      "source": [
        "# Normalization\n",
        "\n",
        "def process(image,label):\n",
        "  image=tf.cast(image/255.0,tf.float32)\n",
        "  return image,label"
      ],
      "metadata": {
        "id": "ExpDT2AIoJDI"
      },
      "execution_count": 6,
      "outputs": []
    },
    {
      "cell_type": "code",
      "source": [
        "train_ds=train_ds.map(process)\n",
        "validation_ds=validation_ds.map(process)"
      ],
      "metadata": {
        "id": "6Bqw7IG9oYmz"
      },
      "execution_count": 7,
      "outputs": []
    },
    {
      "cell_type": "code",
      "source": [
        "model=Sequential()\n",
        "\n",
        "#CNN Part\n",
        "\n",
        "model.add(Conv2D(64,kernel_size=(3,3),padding='same',activation='relu',input_shape=(224,224,3)))\n",
        "model.add(BatchNormalization())\n",
        "#model.add(Conv2D(64,kernel_size=(3,3),padding='same',activation='relu'))\n",
        "model.add(MaxPooling2D(pool_size=(2,2),strides=2,padding='same'))\n",
        "\n",
        "model.add(Conv2D(128,kernel_size=(3,3),padding='same',activation='relu'))\n",
        "#model.add(Conv2D(128,kernel_size=(3,3),padding='same',activation='relu'))\n",
        "model.add(BatchNormalization())\n",
        "model.add(MaxPooling2D(pool_size=(2,2),strides=2,padding='same'))\n",
        "\n",
        "model.add(Conv2D(256,kernel_size=(3,3),padding='same',activation='relu'))\n",
        "#model.add(Conv2D(256,kernel_size=(3,3),padding='same',activation='relu'))\n",
        "#model.add(Conv2D(256,kernel_size=(3,3),padding='same',activation='relu'))\n",
        "model.add(BatchNormalization())\n",
        "model.add(MaxPooling2D(pool_size=(2,2),strides=2,padding='same'))\n",
        "\n",
        "model.add(Conv2D(512,kernel_size=(3,3),padding='same',activation='relu'))\n",
        "model.add(Conv2D(512,kernel_size=(3,3),padding='same',activation='relu'))\n",
        "model.add(Conv2D(512,kernel_size=(3,3),padding='same',activation='relu'))\n",
        "model.add(BatchNormalization())\n",
        "model.add(MaxPooling2D(pool_size=(2,2),strides=2,padding='same'))\n",
        "\n",
        "model.add(Conv2D(512,kernel_size=(3,3),padding='same',activation='relu'))\n",
        "model.add(Conv2D(512,kernel_size=(3,3),padding='same',activation='relu'))\n",
        "model.add(Conv2D(512,kernel_size=(3,3),padding='same',activation='relu'))\n",
        "model.add(BatchNormalization())\n",
        "model.add(MaxPooling2D(pool_size=(2,2),strides=2,padding='same'))\n",
        "\n",
        "# DNN Part\n",
        "\n",
        "model.add(Flatten())\n",
        "\n",
        "model.add(Dense(64,activation='relu'))\n",
        "model.add(Dropout(0.2))\n",
        "\n",
        "model.add(Dense(32,activation='relu'))\n",
        "model.add(Dropout(0.1))\n",
        "\n",
        "model.add(Dense(1,activation='sigmoid'))\n",
        "\n",
        "# View Summary\n",
        "\n",
        "model.summary()"
      ],
      "metadata": {
        "colab": {
          "base_uri": "https://localhost:8080/"
        },
        "id": "ROmjvBOOoYpv",
        "outputId": "774a3099-4f46-45f4-f715-e940078b5785"
      },
      "execution_count": 12,
      "outputs": [
        {
          "output_type": "stream",
          "name": "stdout",
          "text": [
            "Model: \"sequential_2\"\n",
            "_________________________________________________________________\n",
            " Layer (type)                Output Shape              Param #   \n",
            "=================================================================\n",
            " conv2d_11 (Conv2D)          (None, 224, 224, 64)      1792      \n",
            "                                                                 \n",
            " batch_normalization_9 (Bat  (None, 224, 224, 64)      256       \n",
            " chNormalization)                                                \n",
            "                                                                 \n",
            " max_pooling2d_9 (MaxPoolin  (None, 112, 112, 64)      0         \n",
            " g2D)                                                            \n",
            "                                                                 \n",
            " conv2d_12 (Conv2D)          (None, 112, 112, 128)     73856     \n",
            "                                                                 \n",
            " batch_normalization_10 (Ba  (None, 112, 112, 128)     512       \n",
            " tchNormalization)                                               \n",
            "                                                                 \n",
            " max_pooling2d_10 (MaxPooli  (None, 56, 56, 128)       0         \n",
            " ng2D)                                                           \n",
            "                                                                 \n",
            " conv2d_13 (Conv2D)          (None, 56, 56, 256)       295168    \n",
            "                                                                 \n",
            " batch_normalization_11 (Ba  (None, 56, 56, 256)       1024      \n",
            " tchNormalization)                                               \n",
            "                                                                 \n",
            " max_pooling2d_11 (MaxPooli  (None, 28, 28, 256)       0         \n",
            " ng2D)                                                           \n",
            "                                                                 \n",
            " conv2d_14 (Conv2D)          (None, 28, 28, 512)       1180160   \n",
            "                                                                 \n",
            " conv2d_15 (Conv2D)          (None, 28, 28, 512)       2359808   \n",
            "                                                                 \n",
            " conv2d_16 (Conv2D)          (None, 28, 28, 512)       2359808   \n",
            "                                                                 \n",
            " batch_normalization_12 (Ba  (None, 28, 28, 512)       2048      \n",
            " tchNormalization)                                               \n",
            "                                                                 \n",
            " max_pooling2d_12 (MaxPooli  (None, 14, 14, 512)       0         \n",
            " ng2D)                                                           \n",
            "                                                                 \n",
            " conv2d_17 (Conv2D)          (None, 14, 14, 512)       2359808   \n",
            "                                                                 \n",
            " conv2d_18 (Conv2D)          (None, 14, 14, 512)       2359808   \n",
            "                                                                 \n",
            " conv2d_19 (Conv2D)          (None, 14, 14, 512)       2359808   \n",
            "                                                                 \n",
            " batch_normalization_13 (Ba  (None, 14, 14, 512)       2048      \n",
            " tchNormalization)                                               \n",
            "                                                                 \n",
            " max_pooling2d_13 (MaxPooli  (None, 7, 7, 512)         0         \n",
            " ng2D)                                                           \n",
            "                                                                 \n",
            " flatten_2 (Flatten)         (None, 25088)             0         \n",
            "                                                                 \n",
            " dense_6 (Dense)             (None, 64)                1605696   \n",
            "                                                                 \n",
            " dropout_4 (Dropout)         (None, 64)                0         \n",
            "                                                                 \n",
            " dense_7 (Dense)             (None, 32)                2080      \n",
            "                                                                 \n",
            " dropout_5 (Dropout)         (None, 32)                0         \n",
            "                                                                 \n",
            " dense_8 (Dense)             (None, 1)                 33        \n",
            "                                                                 \n",
            "=================================================================\n",
            "Total params: 14963713 (57.08 MB)\n",
            "Trainable params: 14960769 (57.07 MB)\n",
            "Non-trainable params: 2944 (11.50 KB)\n",
            "_________________________________________________________________\n"
          ]
        }
      ]
    },
    {
      "cell_type": "code",
      "source": [
        "model.compile(optimizer='adam',loss='binary_crossentropy',metrics=['accuracy'])"
      ],
      "metadata": {
        "id": "xSJouqi1oYs1"
      },
      "execution_count": 13,
      "outputs": []
    },
    {
      "cell_type": "code",
      "source": [
        "history=model.fit(train_ds,validation_data=validation_ds,batch_size=64,epochs=5)"
      ],
      "metadata": {
        "colab": {
          "base_uri": "https://localhost:8080/"
        },
        "id": "t0lkMTcyoYvu",
        "outputId": "520c1d61-ab2b-4399-fd9a-dc26528909da"
      },
      "execution_count": 14,
      "outputs": [
        {
          "output_type": "stream",
          "name": "stdout",
          "text": [
            "Epoch 1/5\n",
            "83/83 [==============================] - 39s 352ms/step - loss: 0.9292 - accuracy: 0.6981 - val_loss: 1.8503 - val_accuracy: 0.5500\n",
            "Epoch 2/5\n",
            "83/83 [==============================] - 23s 277ms/step - loss: 0.5362 - accuracy: 0.7395 - val_loss: 0.6957 - val_accuracy: 0.5091\n",
            "Epoch 3/5\n",
            "83/83 [==============================] - 23s 269ms/step - loss: 0.5382 - accuracy: 0.7391 - val_loss: 0.6966 - val_accuracy: 0.4515\n",
            "Epoch 4/5\n",
            "83/83 [==============================] - 24s 289ms/step - loss: 0.4994 - accuracy: 0.7319 - val_loss: 0.5491 - val_accuracy: 0.7167\n",
            "Epoch 5/5\n",
            "83/83 [==============================] - 23s 271ms/step - loss: 0.4473 - accuracy: 0.7626 - val_loss: 0.5766 - val_accuracy: 0.7030\n"
          ]
        }
      ]
    },
    {
      "cell_type": "code",
      "source": [],
      "metadata": {
        "id": "zY_foUP9oYyj"
      },
      "execution_count": null,
      "outputs": []
    }
  ]
}